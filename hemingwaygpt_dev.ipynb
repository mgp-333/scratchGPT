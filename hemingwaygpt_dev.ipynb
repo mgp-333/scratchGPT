{
  "nbformat": 4,
  "nbformat_minor": 0,
  "metadata": {
    "colab": {
      "provenance": []
    },
    "kernelspec": {
      "name": "python3",
      "display_name": "Python 3"
    },
    "language_info": {
      "name": "python"
    }
  },
  "cells": [
    {
      "cell_type": "markdown",
      "source": [
        "## Building a GPT\n",
        "\n",
        "Companion notebook to the [Zero To Hero](https://karpathy.ai/zero-to-hero.html) video on GPT."
      ],
      "metadata": {
        "id": "wJpXpmjEYC_T"
      }
    },
    {
      "cell_type": "code",
      "execution_count": 5,
      "metadata": {
        "colab": {
          "base_uri": "https://localhost:8080/"
        },
        "id": "h5hjCcLDr2WC",
        "outputId": "db36ee44-ad32-43ee-a655-c50a898283bb"
      },
      "outputs": [
        {
          "output_type": "stream",
          "name": "stdout",
          "text": [
            "--2023-11-30 00:32:32--  https://raw.githubusercontent.com/mgp-333/scratchGPT/main/hemingwayinput.txt\n",
            "Resolving raw.githubusercontent.com (raw.githubusercontent.com)... 185.199.108.133, 185.199.109.133, 185.199.110.133, ...\n",
            "Connecting to raw.githubusercontent.com (raw.githubusercontent.com)|185.199.108.133|:443... connected.\n",
            "HTTP request sent, awaiting response... 200 OK\n",
            "Length: 76189 (74K) [text/plain]\n",
            "Saving to: ‘hemingwayinput.txt.1’\n",
            "\n",
            "\rhemingwayinput.txt.   0%[                    ]       0  --.-KB/s               \rhemingwayinput.txt. 100%[===================>]  74.40K  --.-KB/s    in 0.07s   \n",
            "\n",
            "2023-11-30 00:32:32 (1006 KB/s) - ‘hemingwayinput.txt.1’ saved [76189/76189]\n",
            "\n"
          ]
        }
      ],
      "source": [
        "# We always start with a dataset to train on. Let's download the tiny shakespeare dataset\n",
        "!wget https://raw.githubusercontent.com/mgp-333/scratchGPT/main/hemingwayinput.txt"
      ]
    },
    {
      "cell_type": "code",
      "source": [
        "# read it in to inspect it\n",
        "with open('hemingwayinput.txt', 'r', encoding='utf-8') as f:\n",
        "    text = f.read()"
      ],
      "metadata": {
        "id": "O6medjfRsLD9"
      },
      "execution_count": 6,
      "outputs": []
    },
    {
      "cell_type": "code",
      "source": [
        "print(\"length of dataset in characters: \", len(text))"
      ],
      "metadata": {
        "colab": {
          "base_uri": "https://localhost:8080/"
        },
        "id": "6xWI_VyAsN8F",
        "outputId": "c2a91ce0-9dc1-4dba-a061-fc3de7425d01"
      },
      "execution_count": 7,
      "outputs": [
        {
          "output_type": "stream",
          "name": "stdout",
          "text": [
            "length of dataset in characters:  75191\n"
          ]
        }
      ]
    },
    {
      "cell_type": "code",
      "source": [
        "# let's look at the first 1000 characters\n",
        "print(text[:1000])"
      ],
      "metadata": {
        "colab": {
          "base_uri": "https://localhost:8080/"
        },
        "id": "2c5V0FvqseE0",
        "outputId": "34f8b502-6c88-4a5a-beea-b6a39d08be6f"
      },
      "execution_count": 8,
      "outputs": [
        {
          "output_type": "stream",
          "name": "stdout",
          "text": [
            "The Project Gutenberg eBook of Three Stories & Ten Poems\n",
            "    \n",
            "This ebook is for the use of anyone anywhere in the United States and\n",
            "most other parts of the world at no cost and with almost no restrictions\n",
            "whatsoever. You may copy it, give it away or re-use it under the terms\n",
            "of the Project Gutenberg License included with this ebook or online\n",
            "at www.gutenberg.org. If you are not located in the United States,\n",
            "you will have to check the laws of the country where you are located\n",
            "before using this eBook.\n",
            "\n",
            "Title: Three Stories & Ten Poems\n",
            "\n",
            "\n",
            "Author: Ernest Hemingway\n",
            "\n",
            "Release date: May 25, 2019 [eBook #59603]\n",
            "\n",
            "Language: English\n",
            "\n",
            "Credits: Produced by an anonymous Project Gutenberg volunteer.\n",
            "\n",
            "\n",
            "*** START OF THE PROJECT GUTENBERG EBOOK THREE STORIES & TEN POEMS ***\n",
            "\n",
            "\n",
            "\n",
            "Produced by an anonymous Project Gutenberg volunteer.\n",
            "\n",
            "\n",
            "\n",
            "\n",
            "\n",
            "\n",
            "  Copyright, 1923, by the author\n",
            "\n",
            "\n",
            "  Published by\n",
            "  Contact Publishing Co.\n",
            "\n",
            "\n",
            "\n",
            "\n",
            "THREE STORIES\n",
            "\n",
            "\n",
            "Up In Michigan\n",
            "\n",
            "Out of Season\n",
            "\n",
            "My Old Man\n",
            "\n",
            "\n",
            "& TEN POEMS\n",
            "\n",
            "\n",
            "Mitraigliatrice\n",
            "\n",
            "Ok\n"
          ]
        }
      ]
    },
    {
      "cell_type": "code",
      "source": [
        "# here are all the unique characters that occur in this text\n",
        "chars = sorted(list(set(text)))\n",
        "vocab_size = len(chars)\n",
        "print(''.join(chars))\n",
        "print(vocab_size)"
      ],
      "metadata": {
        "colab": {
          "base_uri": "https://localhost:8080/"
        },
        "id": "0e-Rbyr8sfM8",
        "outputId": "d51f66f9-4e79-4424-bf5b-09bbdfeba337"
      },
      "execution_count": 9,
      "outputs": [
        {
          "output_type": "stream",
          "name": "stdout",
          "text": [
            "\n",
            " !#$%&'()*,-./0123456789:;?ABCDEFGHIJKLMNOPQRSTUVWXY[]_abcdefghijklmnopqrstuvwxyzé—‘’“”•™\n",
            "90\n"
          ]
        }
      ]
    },
    {
      "cell_type": "code",
      "source": [
        "# create a mapping from characters to integers\n",
        "stoi = { ch:i for i,ch in enumerate(chars) }\n",
        "itos = { i:ch for i,ch in enumerate(chars) }\n",
        "encode = lambda s: [stoi[c] for c in s] # encoder: take a string, output a list of integers\n",
        "decode = lambda l: ''.join([itos[i] for i in l]) # decoder: take a list of integers, output a string\n",
        "\n",
        "print(encode(\"hii there\"))\n",
        "print(decode(encode(\"hii there\")))"
      ],
      "metadata": {
        "colab": {
          "base_uri": "https://localhost:8080/"
        },
        "id": "Yw1LKNCgwjj1",
        "outputId": "0e014c5f-af1d-4434-adf9-269eb0f02f1b"
      },
      "execution_count": 10,
      "outputs": [
        {
          "output_type": "stream",
          "name": "stdout",
          "text": [
            "[63, 64, 64, 1, 75, 63, 60, 73, 60]\n",
            "hii there\n"
          ]
        }
      ]
    },
    {
      "cell_type": "code",
      "source": [
        "# let's now encode the entire text dataset and store it into a torch.Tensor\n",
        "import torch # we use PyTorch: https://pytorch.org\n",
        "data = torch.tensor(encode(text), dtype=torch.long)\n",
        "print(data.shape, data.dtype)\n",
        "print(data[:1000]) # the 1000 characters we looked at earier will to the GPT look like this"
      ],
      "metadata": {
        "colab": {
          "base_uri": "https://localhost:8080/"
        },
        "id": "YJb0OXPwzvqg",
        "outputId": "66997bea-d745-4256-a522-8b9fb8b834cd"
      },
      "execution_count": 11,
      "outputs": [
        {
          "output_type": "stream",
          "name": "stdout",
          "text": [
            "torch.Size([75191]) torch.int64\n",
            "tensor([47, 63, 60,  1, 43, 73, 70, 65, 60, 58, 75,  1, 34, 76, 75, 60, 69, 57,\n",
            "        60, 73, 62,  1, 60, 29, 70, 70, 66,  1, 70, 61,  1, 47, 63, 73, 60, 60,\n",
            "         1, 46, 75, 70, 73, 64, 60, 74,  1,  6,  1, 47, 60, 69,  1, 43, 70, 60,\n",
            "        68, 74,  0,  1,  1,  1,  1,  0, 47, 63, 64, 74,  1, 60, 57, 70, 70, 66,\n",
            "         1, 64, 74,  1, 61, 70, 73,  1, 75, 63, 60,  1, 76, 74, 60,  1, 70, 61,\n",
            "         1, 56, 69, 80, 70, 69, 60,  1, 56, 69, 80, 78, 63, 60, 73, 60,  1, 64,\n",
            "        69,  1, 75, 63, 60,  1, 48, 69, 64, 75, 60, 59,  1, 46, 75, 56, 75, 60,\n",
            "        74,  1, 56, 69, 59,  0, 68, 70, 74, 75,  1, 70, 75, 63, 60, 73,  1, 71,\n",
            "        56, 73, 75, 74,  1, 70, 61,  1, 75, 63, 60,  1, 78, 70, 73, 67, 59,  1,\n",
            "        56, 75,  1, 69, 70,  1, 58, 70, 74, 75,  1, 56, 69, 59,  1, 78, 64, 75,\n",
            "        63,  1, 56, 67, 68, 70, 74, 75,  1, 69, 70,  1, 73, 60, 74, 75, 73, 64,\n",
            "        58, 75, 64, 70, 69, 74,  0, 78, 63, 56, 75, 74, 70, 60, 77, 60, 73, 13,\n",
            "         1, 52, 70, 76,  1, 68, 56, 80,  1, 58, 70, 71, 80,  1, 64, 75, 11,  1,\n",
            "        62, 64, 77, 60,  1, 64, 75,  1, 56, 78, 56, 80,  1, 70, 73,  1, 73, 60,\n",
            "        12, 76, 74, 60,  1, 64, 75,  1, 76, 69, 59, 60, 73,  1, 75, 63, 60,  1,\n",
            "        75, 60, 73, 68, 74,  0, 70, 61,  1, 75, 63, 60,  1, 43, 73, 70, 65, 60,\n",
            "        58, 75,  1, 34, 76, 75, 60, 69, 57, 60, 73, 62,  1, 39, 64, 58, 60, 69,\n",
            "        74, 60,  1, 64, 69, 58, 67, 76, 59, 60, 59,  1, 78, 64, 75, 63,  1, 75,\n",
            "        63, 64, 74,  1, 60, 57, 70, 70, 66,  1, 70, 73,  1, 70, 69, 67, 64, 69,\n",
            "        60,  0, 56, 75,  1, 78, 78, 78, 13, 62, 76, 75, 60, 69, 57, 60, 73, 62,\n",
            "        13, 70, 73, 62, 13,  1, 36, 61,  1, 80, 70, 76,  1, 56, 73, 60,  1, 69,\n",
            "        70, 75,  1, 67, 70, 58, 56, 75, 60, 59,  1, 64, 69,  1, 75, 63, 60,  1,\n",
            "        48, 69, 64, 75, 60, 59,  1, 46, 75, 56, 75, 60, 74, 11,  0, 80, 70, 76,\n",
            "         1, 78, 64, 67, 67,  1, 63, 56, 77, 60,  1, 75, 70,  1, 58, 63, 60, 58,\n",
            "        66,  1, 75, 63, 60,  1, 67, 56, 78, 74,  1, 70, 61,  1, 75, 63, 60,  1,\n",
            "        58, 70, 76, 69, 75, 73, 80,  1, 78, 63, 60, 73, 60,  1, 80, 70, 76,  1,\n",
            "        56, 73, 60,  1, 67, 70, 58, 56, 75, 60, 59,  0, 57, 60, 61, 70, 73, 60,\n",
            "         1, 76, 74, 64, 69, 62,  1, 75, 63, 64, 74,  1, 60, 29, 70, 70, 66, 13,\n",
            "         0,  0, 47, 64, 75, 67, 60, 25,  1, 47, 63, 73, 60, 60,  1, 46, 75, 70,\n",
            "        73, 64, 60, 74,  1,  6,  1, 47, 60, 69,  1, 43, 70, 60, 68, 74,  0,  0,\n",
            "         0, 28, 76, 75, 63, 70, 73, 25,  1, 32, 73, 69, 60, 74, 75,  1, 35, 60,\n",
            "        68, 64, 69, 62, 78, 56, 80,  0,  0, 45, 60, 67, 60, 56, 74, 60,  1, 59,\n",
            "        56, 75, 60, 25,  1, 40, 56, 80,  1, 17, 20, 11,  1, 17, 15, 16, 24,  1,\n",
            "        53, 60, 29, 70, 70, 66,  1,  3, 20, 24, 21, 15, 18, 54,  0,  0, 39, 56,\n",
            "        69, 62, 76, 56, 62, 60, 25,  1, 32, 69, 62, 67, 64, 74, 63,  0,  0, 30,\n",
            "        73, 60, 59, 64, 75, 74, 25,  1, 43, 73, 70, 59, 76, 58, 60, 59,  1, 57,\n",
            "        80,  1, 56, 69,  1, 56, 69, 70, 69, 80, 68, 70, 76, 74,  1, 43, 73, 70,\n",
            "        65, 60, 58, 75,  1, 34, 76, 75, 60, 69, 57, 60, 73, 62,  1, 77, 70, 67,\n",
            "        76, 69, 75, 60, 60, 73, 13,  0,  0,  0, 10, 10, 10,  1, 46, 47, 28, 45,\n",
            "        47,  1, 42, 33,  1, 47, 35, 32,  1, 43, 45, 42, 37, 32, 30, 47,  1, 34,\n",
            "        48, 47, 32, 41, 29, 32, 45, 34,  1, 32, 29, 42, 42, 38,  1, 47, 35, 45,\n",
            "        32, 32,  1, 46, 47, 42, 45, 36, 32, 46,  1,  6,  1, 47, 32, 41,  1, 43,\n",
            "        42, 32, 40, 46,  1, 10, 10, 10,  0,  0,  0,  0, 43, 73, 70, 59, 76, 58,\n",
            "        60, 59,  1, 57, 80,  1, 56, 69,  1, 56, 69, 70, 69, 80, 68, 70, 76, 74,\n",
            "         1, 43, 73, 70, 65, 60, 58, 75,  1, 34, 76, 75, 60, 69, 57, 60, 73, 62,\n",
            "         1, 77, 70, 67, 76, 69, 75, 60, 60, 73, 13,  0,  0,  0,  0,  0,  0,  0,\n",
            "         1,  1, 30, 70, 71, 80, 73, 64, 62, 63, 75, 11,  1, 16, 24, 17, 18, 11,\n",
            "         1, 57, 80,  1, 75, 63, 60,  1, 56, 76, 75, 63, 70, 73,  0,  0,  0,  1,\n",
            "         1, 43, 76, 57, 67, 64, 74, 63, 60, 59,  1, 57, 80,  0,  1,  1, 30, 70,\n",
            "        69, 75, 56, 58, 75,  1, 43, 76, 57, 67, 64, 74, 63, 64, 69, 62,  1, 30,\n",
            "        70, 13,  0,  0,  0,  0,  0, 47, 35, 45, 32, 32,  1, 46, 47, 42, 45, 36,\n",
            "        32, 46,  0,  0,  0, 48, 71,  1, 36, 69,  1, 40, 64, 58, 63, 64, 62, 56,\n",
            "        69,  0,  0, 42, 76, 75,  1, 70, 61,  1, 46, 60, 56, 74, 70, 69,  0,  0,\n",
            "        40, 80,  1, 42, 67, 59,  1, 40, 56, 69,  0,  0,  0,  6,  1, 47, 32, 41,\n",
            "         1, 43, 42, 32, 40, 46,  0,  0,  0, 40, 64, 75, 73, 56, 64, 62, 67, 64,\n",
            "        56, 75, 73, 64, 58, 60,  0,  0, 42, 66])\n"
          ]
        }
      ]
    },
    {
      "cell_type": "code",
      "source": [
        "# Let's now split up the data into train and validation sets\n",
        "n = int(0.9*len(data)) # first 90% will be train, rest val\n",
        "train_data = data[:n]\n",
        "val_data = data[n:]"
      ],
      "metadata": {
        "id": "f_WIXqxz0lU5"
      },
      "execution_count": 12,
      "outputs": []
    },
    {
      "cell_type": "code",
      "source": [
        "block_size = 8\n",
        "train_data[:block_size+1]"
      ],
      "metadata": {
        "colab": {
          "base_uri": "https://localhost:8080/"
        },
        "id": "TD5Bj8Y6IAD4",
        "outputId": "1c9c2dc3-c6fb-4b7b-975a-a328d46a4f8d"
      },
      "execution_count": 13,
      "outputs": [
        {
          "output_type": "execute_result",
          "data": {
            "text/plain": [
              "tensor([47, 63, 60,  1, 43, 73, 70, 65, 60])"
            ]
          },
          "metadata": {},
          "execution_count": 13
        }
      ]
    },
    {
      "cell_type": "code",
      "source": [
        "x = train_data[:block_size]\n",
        "y = train_data[1:block_size+1]\n",
        "for t in range(block_size):\n",
        "    context = x[:t+1]\n",
        "    target = y[t]\n",
        "    print(f\"when input is {context} the target: {target}\")"
      ],
      "metadata": {
        "colab": {
          "base_uri": "https://localhost:8080/"
        },
        "id": "9HXDe8vGJCEn",
        "outputId": "a27c65e6-496d-4967-f6d7-f039b80d2ce9"
      },
      "execution_count": 14,
      "outputs": [
        {
          "output_type": "stream",
          "name": "stdout",
          "text": [
            "when input is tensor([47]) the target: 63\n",
            "when input is tensor([47, 63]) the target: 60\n",
            "when input is tensor([47, 63, 60]) the target: 1\n",
            "when input is tensor([47, 63, 60,  1]) the target: 43\n",
            "when input is tensor([47, 63, 60,  1, 43]) the target: 73\n",
            "when input is tensor([47, 63, 60,  1, 43, 73]) the target: 70\n",
            "when input is tensor([47, 63, 60,  1, 43, 73, 70]) the target: 65\n",
            "when input is tensor([47, 63, 60,  1, 43, 73, 70, 65]) the target: 60\n"
          ]
        }
      ]
    },
    {
      "cell_type": "code",
      "source": [
        "torch.manual_seed(1337)\n",
        "batch_size = 4 # how many independent sequences will we process in parallel?\n",
        "block_size = 8 # what is the maximum context length for predictions?\n",
        "\n",
        "def get_batch(split):\n",
        "    # generate a small batch of data of inputs x and targets y\n",
        "    data = train_data if split == 'train' else val_data\n",
        "    ix = torch.randint(len(data) - block_size, (batch_size,))\n",
        "    x = torch.stack([data[i:i+block_size] for i in ix])\n",
        "    y = torch.stack([data[i+1:i+block_size+1] for i in ix])\n",
        "    return x, y\n",
        "\n",
        "xb, yb = get_batch('train')\n",
        "print('inputs:')\n",
        "print(xb.shape)\n",
        "print(xb)\n",
        "print('targets:')\n",
        "print(yb.shape)\n",
        "print(yb)\n",
        "\n",
        "print('----')\n",
        "\n",
        "for b in range(batch_size): # batch dimension\n",
        "    for t in range(block_size): # time dimension\n",
        "        context = xb[b, :t+1]\n",
        "        target = yb[b,t]\n",
        "        print(f\"when input is {context.tolist()} the target: {target}\")"
      ],
      "metadata": {
        "colab": {
          "base_uri": "https://localhost:8080/"
        },
        "id": "Q3k1Czf7LuA9",
        "outputId": "2326f82e-c8a3-4018-acb3-1371937416bd"
      },
      "execution_count": 15,
      "outputs": [
        {
          "output_type": "stream",
          "name": "stdout",
          "text": [
            "inputs:\n",
            "torch.Size([4, 8])\n",
            "tensor([[56, 74, 66, 60, 59, 13,  1, 36],\n",
            "        [58, 75, 64, 69, 62,  1, 77, 60],\n",
            "        [ 1, 78, 60,  1, 78, 60, 73, 60],\n",
            "        [ 1, 68, 70, 76, 69, 75, 56, 64]])\n",
            "targets:\n",
            "torch.Size([4, 8])\n",
            "tensor([[74, 66, 60, 59, 13,  1, 36,  1],\n",
            "        [75, 64, 69, 62,  1, 77, 60, 73],\n",
            "        [78, 60,  1, 78, 60, 73, 60,  1],\n",
            "        [68, 70, 76, 69, 75, 56, 64, 69]])\n",
            "----\n",
            "when input is [56] the target: 74\n",
            "when input is [56, 74] the target: 66\n",
            "when input is [56, 74, 66] the target: 60\n",
            "when input is [56, 74, 66, 60] the target: 59\n",
            "when input is [56, 74, 66, 60, 59] the target: 13\n",
            "when input is [56, 74, 66, 60, 59, 13] the target: 1\n",
            "when input is [56, 74, 66, 60, 59, 13, 1] the target: 36\n",
            "when input is [56, 74, 66, 60, 59, 13, 1, 36] the target: 1\n",
            "when input is [58] the target: 75\n",
            "when input is [58, 75] the target: 64\n",
            "when input is [58, 75, 64] the target: 69\n",
            "when input is [58, 75, 64, 69] the target: 62\n",
            "when input is [58, 75, 64, 69, 62] the target: 1\n",
            "when input is [58, 75, 64, 69, 62, 1] the target: 77\n",
            "when input is [58, 75, 64, 69, 62, 1, 77] the target: 60\n",
            "when input is [58, 75, 64, 69, 62, 1, 77, 60] the target: 73\n",
            "when input is [1] the target: 78\n",
            "when input is [1, 78] the target: 60\n",
            "when input is [1, 78, 60] the target: 1\n",
            "when input is [1, 78, 60, 1] the target: 78\n",
            "when input is [1, 78, 60, 1, 78] the target: 60\n",
            "when input is [1, 78, 60, 1, 78, 60] the target: 73\n",
            "when input is [1, 78, 60, 1, 78, 60, 73] the target: 60\n",
            "when input is [1, 78, 60, 1, 78, 60, 73, 60] the target: 1\n",
            "when input is [1] the target: 68\n",
            "when input is [1, 68] the target: 70\n",
            "when input is [1, 68, 70] the target: 76\n",
            "when input is [1, 68, 70, 76] the target: 69\n",
            "when input is [1, 68, 70, 76, 69] the target: 75\n",
            "when input is [1, 68, 70, 76, 69, 75] the target: 56\n",
            "when input is [1, 68, 70, 76, 69, 75, 56] the target: 64\n",
            "when input is [1, 68, 70, 76, 69, 75, 56, 64] the target: 69\n"
          ]
        }
      ]
    },
    {
      "cell_type": "code",
      "source": [
        "print(xb) # our input to the transformer"
      ],
      "metadata": {
        "colab": {
          "base_uri": "https://localhost:8080/"
        },
        "id": "qpyyAeIzQjlO",
        "outputId": "c810d1d0-c247-4895-8222-496bb1ba855c"
      },
      "execution_count": 16,
      "outputs": [
        {
          "output_type": "stream",
          "name": "stdout",
          "text": [
            "tensor([[56, 74, 66, 60, 59, 13,  1, 36],\n",
            "        [58, 75, 64, 69, 62,  1, 77, 60],\n",
            "        [ 1, 78, 60,  1, 78, 60, 73, 60],\n",
            "        [ 1, 68, 70, 76, 69, 75, 56, 64]])\n"
          ]
        }
      ]
    },
    {
      "cell_type": "code",
      "source": [
        "import torch\n",
        "import torch.nn as nn\n",
        "from torch.nn import functional as F\n",
        "torch.manual_seed(1337)\n",
        "\n",
        "class BigramLanguageModel(nn.Module):\n",
        "\n",
        "    def __init__(self, vocab_size):\n",
        "        super().__init__()\n",
        "        # each token directly reads off the logits for the next token from a lookup table\n",
        "        self.token_embedding_table = nn.Embedding(vocab_size, vocab_size)\n",
        "\n",
        "    def forward(self, idx, targets=None):\n",
        "\n",
        "        # idx and targets are both (B,T) tensor of integers\n",
        "        logits = self.token_embedding_table(idx) # (B,T,C)\n",
        "\n",
        "        if targets is None:\n",
        "            loss = None\n",
        "        else:\n",
        "            B, T, C = logits.shape\n",
        "            logits = logits.view(B*T, C)\n",
        "            targets = targets.view(B*T)\n",
        "            loss = F.cross_entropy(logits, targets)\n",
        "\n",
        "        return logits, loss\n",
        "\n",
        "    def generate(self, idx, max_new_tokens):\n",
        "        # idx is (B, T) array of indices in the current context\n",
        "        for _ in range(max_new_tokens):\n",
        "            # get the predictions\n",
        "            logits, loss = self(idx)\n",
        "            # focus only on the last time step\n",
        "            logits = logits[:, -1, :] # becomes (B, C)\n",
        "            # apply softmax to get probabilities\n",
        "            probs = F.softmax(logits, dim=-1) # (B, C)\n",
        "            # sample from the distribution\n",
        "            idx_next = torch.multinomial(probs, num_samples=1) # (B, 1)\n",
        "            # append sampled index to the running sequence\n",
        "            idx = torch.cat((idx, idx_next), dim=1) # (B, T+1)\n",
        "        return idx\n",
        "\n",
        "m = BigramLanguageModel(vocab_size)\n",
        "logits, loss = m(xb, yb)\n",
        "print(logits.shape)\n",
        "print(loss)\n",
        "\n",
        "print(decode(m.generate(idx = torch.zeros((1, 1), dtype=torch.long), max_new_tokens=100)[0].tolist()))\n"
      ],
      "metadata": {
        "colab": {
          "base_uri": "https://localhost:8080/"
        },
        "id": "nql_1ER53oCf",
        "outputId": "0dcf7fd5-a947-4f07-80b6-66a24bd96d49"
      },
      "execution_count": 17,
      "outputs": [
        {
          "output_type": "stream",
          "name": "stdout",
          "text": [
            "torch.Size([32, 90])\n",
            "tensor(5.0314, grad_fn=<NllLossBackward0>)\n",
            "\n",
            "xg6X!Ast—Q0j?3—#w02;hz)R-:HE/0A2X%k27n ]v6f4dR-é“Ayp)vTXw;B04SU”piA2c]?8\n",
            "6k2yR!xI(-O2)6\n",
            "ypig”5YyuJ,7\n"
          ]
        }
      ]
    },
    {
      "cell_type": "code",
      "source": [
        "# create a PyTorch optimizer\n",
        "optimizer = torch.optim.AdamW(m.parameters(), lr=1e-3)"
      ],
      "metadata": {
        "id": "eTyJ8qAaDdiF"
      },
      "execution_count": 18,
      "outputs": []
    },
    {
      "cell_type": "code",
      "source": [
        "batch_size = 32\n",
        "for steps in range(100): # increase number of steps for good results...\n",
        "\n",
        "    # sample a batch of data\n",
        "    xb, yb = get_batch('train')\n",
        "\n",
        "    # evaluate the loss\n",
        "    logits, loss = m(xb, yb)\n",
        "    optimizer.zero_grad(set_to_none=True)\n",
        "    loss.backward()\n",
        "    optimizer.step()\n",
        "\n",
        "print(loss.item())\n"
      ],
      "metadata": {
        "colab": {
          "base_uri": "https://localhost:8080/"
        },
        "id": "Hs4kI8YdEkQj",
        "outputId": "ed4bb1e0-e78a-48f4-b05d-4092da07a0ba"
      },
      "execution_count": 19,
      "outputs": [
        {
          "output_type": "stream",
          "name": "stdout",
          "text": [
            "4.748517990112305\n"
          ]
        }
      ]
    },
    {
      "cell_type": "code",
      "source": [
        "print(decode(m.generate(idx = torch.zeros((1, 1), dtype=torch.long), max_new_tokens=500)[0].tolist()))"
      ],
      "metadata": {
        "colab": {
          "base_uri": "https://localhost:8080/"
        },
        "id": "EcVIDWAZEtjN",
        "outputId": "c3f2eb7e-5e62-4fb5-8648-92cc2e095fd3"
      },
      "execution_count": 20,
      "outputs": [
        {
          "output_type": "stream",
          "name": "stdout",
          "text": [
            "\n",
            "1;Psg-4$eAw™#[0jbQMAHMu!1VloNx%é2“1&swAn4“E)l™tU]N!#)u•ca%C/& MPo’OzbpEz;Tl&_CGc4”/HBgj“JyYr,(;J'e[Eg3VCqf”aK-!,cNpC6o‘1lP’)7™g6':(”(&uWéFuLrkcr2c%B4’:H*x'é!5ot*I“RXMU ™q5•AU™8QRa 2F5c#W:N_E 4Q\n",
            "1:z.9g?h6YIm'HkgDWE?*[d!,e”F‘tUézJ5”(EPG8WLr_, ]hd•KM“fV:S[Iu!/:6DP?[FnA;h!&,I0aKD‘(X,x!)u'-]K90NsMw™hnkEe™;P“U8Wd,(OUiD$$—C23LJ0YYE9czFOYhtfFR9•yy),j1n9jdq!S%hGG5CDWSht%R\n",
            "LSL•‘#TI_((\n",
            "1J™y3[MB;2t“qFDPH“x.! u1NBx”•WVxf0qFzGwP;42grYX,6a* ]?yv$‘\n",
            "UYbV“Xl*dx.4XEe‘•d™#[o%k‘f\n",
            "JjpqB*J[D’\n",
            "ySt$rYI)8uJ'H™EzypGvx-z:z\n"
          ]
        }
      ]
    },
    {
      "cell_type": "markdown",
      "source": [
        "## The mathematical trick in self-attention"
      ],
      "metadata": {
        "id": "XinV8nmAnmKN"
      }
    },
    {
      "cell_type": "code",
      "source": [
        "# toy example illustrating how matrix multiplication can be used for a \"weighted aggregation\"\n",
        "torch.manual_seed(42)\n",
        "a = torch.tril(torch.ones(3, 3))\n",
        "a = a / torch.sum(a, 1, keepdim=True)\n",
        "b = torch.randint(0,10,(3,2)).float()\n",
        "c = a @ b\n",
        "print('a=')\n",
        "print(a)\n",
        "print('--')\n",
        "print('b=')\n",
        "print(b)\n",
        "print('--')\n",
        "print('c=')\n",
        "print(c)"
      ],
      "metadata": {
        "colab": {
          "base_uri": "https://localhost:8080/"
        },
        "id": "tukiH-NbRBhA",
        "outputId": "4a4332f5-03a2-4ab5-8f3f-821403564307"
      },
      "execution_count": 21,
      "outputs": [
        {
          "output_type": "stream",
          "name": "stdout",
          "text": [
            "a=\n",
            "tensor([[1.0000, 0.0000, 0.0000],\n",
            "        [0.5000, 0.5000, 0.0000],\n",
            "        [0.3333, 0.3333, 0.3333]])\n",
            "--\n",
            "b=\n",
            "tensor([[2., 7.],\n",
            "        [6., 4.],\n",
            "        [6., 5.]])\n",
            "--\n",
            "c=\n",
            "tensor([[2.0000, 7.0000],\n",
            "        [4.0000, 5.5000],\n",
            "        [4.6667, 5.3333]])\n"
          ]
        }
      ]
    },
    {
      "cell_type": "code",
      "source": [
        "# consider the following toy example:\n",
        "\n",
        "torch.manual_seed(1337)\n",
        "B,T,C = 4,8,2 # batch, time, channels\n",
        "x = torch.randn(B,T,C)\n",
        "x.shape"
      ],
      "metadata": {
        "colab": {
          "base_uri": "https://localhost:8080/"
        },
        "id": "Hs_E24uRE8kr",
        "outputId": "0c7c5b9b-b84f-402d-e706-4a5ece98f3f7"
      },
      "execution_count": 22,
      "outputs": [
        {
          "output_type": "execute_result",
          "data": {
            "text/plain": [
              "torch.Size([4, 8, 2])"
            ]
          },
          "metadata": {},
          "execution_count": 22
        }
      ]
    },
    {
      "cell_type": "code",
      "source": [
        "# We want x[b,t] = mean_{i<=t} x[b,i]\n",
        "xbow = torch.zeros((B,T,C))\n",
        "for b in range(B):\n",
        "    for t in range(T):\n",
        "        xprev = x[b,:t+1] # (t,C)\n",
        "        xbow[b,t] = torch.mean(xprev, 0)\n"
      ],
      "metadata": {
        "id": "86NuXX0fn7ps"
      },
      "execution_count": 23,
      "outputs": []
    },
    {
      "cell_type": "code",
      "source": [
        "# version 2: using matrix multiply for a weighted aggregation\n",
        "wei = torch.tril(torch.ones(T, T))\n",
        "wei = wei / wei.sum(1, keepdim=True)\n",
        "xbow2 = wei @ x # (B, T, T) @ (B, T, C) ----> (B, T, C)\n",
        "torch.allclose(xbow, xbow2)"
      ],
      "metadata": {
        "colab": {
          "base_uri": "https://localhost:8080/"
        },
        "id": "yhdOAd6-wXkZ",
        "outputId": "9c1bf386-c07b-4d69-c717-517e320d1db1"
      },
      "execution_count": 24,
      "outputs": [
        {
          "output_type": "execute_result",
          "data": {
            "text/plain": [
              "False"
            ]
          },
          "metadata": {},
          "execution_count": 24
        }
      ]
    },
    {
      "cell_type": "code",
      "source": [
        "# version 3: use Softmax\n",
        "tril = torch.tril(torch.ones(T, T))\n",
        "wei = torch.zeros((T,T))\n",
        "wei = wei.masked_fill(tril == 0, float('-inf'))\n",
        "wei = F.softmax(wei, dim=-1)\n",
        "xbow3 = wei @ x\n",
        "torch.allclose(xbow, xbow3)\n"
      ],
      "metadata": {
        "colab": {
          "base_uri": "https://localhost:8080/"
        },
        "id": "wOURrfG-ysoL",
        "outputId": "110f929a-c8e4-4c5d-b5c0-c16e2e0412d6"
      },
      "execution_count": 25,
      "outputs": [
        {
          "output_type": "execute_result",
          "data": {
            "text/plain": [
              "False"
            ]
          },
          "metadata": {},
          "execution_count": 25
        }
      ]
    },
    {
      "cell_type": "code",
      "source": [
        "# version 4: self-attention!\n",
        "torch.manual_seed(1337)\n",
        "B,T,C = 4,8,32 # batch, time, channels\n",
        "x = torch.randn(B,T,C)\n",
        "\n",
        "# let's see a single Head perform self-attention\n",
        "head_size = 16\n",
        "key = nn.Linear(C, head_size, bias=False)\n",
        "query = nn.Linear(C, head_size, bias=False)\n",
        "value = nn.Linear(C, head_size, bias=False)\n",
        "k = key(x)   # (B, T, 16)\n",
        "q = query(x) # (B, T, 16)\n",
        "wei =  q @ k.transpose(-2, -1) # (B, T, 16) @ (B, 16, T) ---> (B, T, T)\n",
        "\n",
        "tril = torch.tril(torch.ones(T, T))\n",
        "#wei = torch.zeros((T,T))\n",
        "wei = wei.masked_fill(tril == 0, float('-inf'))\n",
        "wei = F.softmax(wei, dim=-1)\n",
        "\n",
        "v = value(x)\n",
        "out = wei @ v\n",
        "#out = wei @ x\n",
        "\n",
        "out.shape"
      ],
      "metadata": {
        "colab": {
          "base_uri": "https://localhost:8080/"
        },
        "id": "EDarxEWIRMKq",
        "outputId": "a60b9cea-a4f9-45b2-9792-8d7bae6cecf8"
      },
      "execution_count": 26,
      "outputs": [
        {
          "output_type": "execute_result",
          "data": {
            "text/plain": [
              "torch.Size([4, 8, 16])"
            ]
          },
          "metadata": {},
          "execution_count": 26
        }
      ]
    },
    {
      "cell_type": "code",
      "source": [
        "wei[0]"
      ],
      "metadata": {
        "colab": {
          "base_uri": "https://localhost:8080/"
        },
        "id": "vT1hdtzXCjgL",
        "outputId": "14df5e79-9389-4c3d-e83d-c2812226aa4e"
      },
      "execution_count": 27,
      "outputs": [
        {
          "output_type": "execute_result",
          "data": {
            "text/plain": [
              "tensor([[1.0000, 0.0000, 0.0000, 0.0000, 0.0000, 0.0000, 0.0000, 0.0000],\n",
              "        [0.1574, 0.8426, 0.0000, 0.0000, 0.0000, 0.0000, 0.0000, 0.0000],\n",
              "        [0.2088, 0.1646, 0.6266, 0.0000, 0.0000, 0.0000, 0.0000, 0.0000],\n",
              "        [0.5792, 0.1187, 0.1889, 0.1131, 0.0000, 0.0000, 0.0000, 0.0000],\n",
              "        [0.0294, 0.1052, 0.0469, 0.0276, 0.7909, 0.0000, 0.0000, 0.0000],\n",
              "        [0.0176, 0.2689, 0.0215, 0.0089, 0.6812, 0.0019, 0.0000, 0.0000],\n",
              "        [0.1691, 0.4066, 0.0438, 0.0416, 0.1048, 0.2012, 0.0329, 0.0000],\n",
              "        [0.0210, 0.0843, 0.0555, 0.2297, 0.0573, 0.0709, 0.2423, 0.2391]],\n",
              "       grad_fn=<SelectBackward0>)"
            ]
          },
          "metadata": {},
          "execution_count": 27
        }
      ]
    },
    {
      "cell_type": "markdown",
      "source": [
        "Notes:\n",
        "- Attention is a **communication mechanism**. Can be seen as nodes in a directed graph looking at each other and aggregating information with a weighted sum from all nodes that point to them, with data-dependent weights.\n",
        "- There is no notion of space. Attention simply acts over a set of vectors. This is why we need to positionally encode tokens.\n",
        "- Each example across batch dimension is of course processed completely independently and never \"talk\" to each other\n",
        "- In an \"encoder\" attention block just delete the single line that does masking with `tril`, allowing all tokens to communicate. This block here is called a \"decoder\" attention block because it has triangular masking, and is usually used in autoregressive settings, like language modeling.\n",
        "- \"self-attention\" just means that the keys and values are produced from the same source as queries. In \"cross-attention\", the queries still get produced from x, but the keys and values come from some other, external source (e.g. an encoder module)\n",
        "- \"Scaled\" attention additional divides `wei` by 1/sqrt(head_size). This makes it so when input Q,K are unit variance, wei will be unit variance too and Softmax will stay diffuse and not saturate too much. Illustration below"
      ],
      "metadata": {
        "id": "M5CvobiQ0pLr"
      }
    },
    {
      "cell_type": "code",
      "source": [
        "k = torch.randn(B,T,head_size)\n",
        "q = torch.randn(B,T,head_size)\n",
        "wei = q @ k.transpose(-2, -1) * head_size**-0.5"
      ],
      "metadata": {
        "id": "4SNbLq5z3oBw"
      },
      "execution_count": 28,
      "outputs": []
    },
    {
      "cell_type": "code",
      "source": [
        "k.var()"
      ],
      "metadata": {
        "colab": {
          "base_uri": "https://localhost:8080/"
        },
        "id": "Nl6I9n9IRTSo",
        "outputId": "ffd41ccc-8a1c-4d09-cf45-e9c93de6b121"
      },
      "execution_count": 29,
      "outputs": [
        {
          "output_type": "execute_result",
          "data": {
            "text/plain": [
              "tensor(1.0449)"
            ]
          },
          "metadata": {},
          "execution_count": 29
        }
      ]
    },
    {
      "cell_type": "code",
      "source": [
        "q.var()"
      ],
      "metadata": {
        "colab": {
          "base_uri": "https://localhost:8080/"
        },
        "id": "T1tQx7oeRvtc",
        "outputId": "a4eaec11-541c-4c18-a018-8fc9394ae601"
      },
      "execution_count": 30,
      "outputs": [
        {
          "output_type": "execute_result",
          "data": {
            "text/plain": [
              "tensor(1.0700)"
            ]
          },
          "metadata": {},
          "execution_count": 30
        }
      ]
    },
    {
      "cell_type": "code",
      "source": [
        "wei.var()"
      ],
      "metadata": {
        "colab": {
          "base_uri": "https://localhost:8080/"
        },
        "id": "MLb_odHU3iKM",
        "outputId": "95bac9fc-1282-4369-fda0-1ff22306ed44"
      },
      "execution_count": 31,
      "outputs": [
        {
          "output_type": "execute_result",
          "data": {
            "text/plain": [
              "tensor(1.0918)"
            ]
          },
          "metadata": {},
          "execution_count": 31
        }
      ]
    },
    {
      "cell_type": "code",
      "source": [
        "torch.softmax(torch.tensor([0.1, -0.2, 0.3, -0.2, 0.5]), dim=-1)"
      ],
      "metadata": {
        "colab": {
          "base_uri": "https://localhost:8080/"
        },
        "id": "JB82yzt44REI",
        "outputId": "80b8d75f-a044-4363-b305-6e428426fe7e"
      },
      "execution_count": 32,
      "outputs": [
        {
          "output_type": "execute_result",
          "data": {
            "text/plain": [
              "tensor([0.1925, 0.1426, 0.2351, 0.1426, 0.2872])"
            ]
          },
          "metadata": {},
          "execution_count": 32
        }
      ]
    },
    {
      "cell_type": "code",
      "source": [
        "torch.softmax(torch.tensor([0.1, -0.2, 0.3, -0.2, 0.5])*8, dim=-1) # gets too peaky, converges to one-hot"
      ],
      "metadata": {
        "colab": {
          "base_uri": "https://localhost:8080/"
        },
        "id": "Mpt8569BB9_f",
        "outputId": "7d209c72-f8be-491d-cbea-136c571730cb"
      },
      "execution_count": 33,
      "outputs": [
        {
          "output_type": "execute_result",
          "data": {
            "text/plain": [
              "tensor([0.0326, 0.0030, 0.1615, 0.0030, 0.8000])"
            ]
          },
          "metadata": {},
          "execution_count": 33
        }
      ]
    },
    {
      "cell_type": "code",
      "source": [
        "class LayerNorm1d: # (used to be BatchNorm1d)\n",
        "\n",
        "  def __init__(self, dim, eps=1e-5, momentum=0.1):\n",
        "    self.eps = eps\n",
        "    self.gamma = torch.ones(dim)\n",
        "    self.beta = torch.zeros(dim)\n",
        "\n",
        "  def __call__(self, x):\n",
        "    # calculate the forward pass\n",
        "    xmean = x.mean(1, keepdim=True) # batch mean\n",
        "    xvar = x.var(1, keepdim=True) # batch variance\n",
        "    xhat = (x - xmean) / torch.sqrt(xvar + self.eps) # normalize to unit variance\n",
        "    self.out = self.gamma * xhat + self.beta\n",
        "    return self.out\n",
        "\n",
        "  def parameters(self):\n",
        "    return [self.gamma, self.beta]\n",
        "\n",
        "torch.manual_seed(1337)\n",
        "module = LayerNorm1d(100)\n",
        "x = torch.randn(32, 100) # batch size 32 of 100-dimensional vectors\n",
        "x = module(x)\n",
        "x.shape"
      ],
      "metadata": {
        "colab": {
          "base_uri": "https://localhost:8080/"
        },
        "id": "2Num7sX9CKOH",
        "outputId": "6085373d-8406-4433-dc71-c6ee282ffff5"
      },
      "execution_count": 34,
      "outputs": [
        {
          "output_type": "execute_result",
          "data": {
            "text/plain": [
              "torch.Size([32, 100])"
            ]
          },
          "metadata": {},
          "execution_count": 34
        }
      ]
    },
    {
      "cell_type": "code",
      "source": [
        "x[:,0].mean(), x[:,0].std() # mean,std of one feature across all batch inputs"
      ],
      "metadata": {
        "colab": {
          "base_uri": "https://localhost:8080/"
        },
        "id": "633T2cmnW1uk",
        "outputId": "083ca9d5-55e1-4066-bc36-4240afe803fb"
      },
      "execution_count": 35,
      "outputs": [
        {
          "output_type": "execute_result",
          "data": {
            "text/plain": [
              "(tensor(0.1469), tensor(0.8803))"
            ]
          },
          "metadata": {},
          "execution_count": 35
        }
      ]
    },
    {
      "cell_type": "code",
      "source": [
        "x[0,:].mean(), x[0,:].std() # mean,std of a single input from the batch, of its features"
      ],
      "metadata": {
        "colab": {
          "base_uri": "https://localhost:8080/"
        },
        "id": "LN9cK9BoXCYb",
        "outputId": "bcb9bfbb-707c-473b-a0eb-664cf7ff2abc"
      },
      "execution_count": 36,
      "outputs": [
        {
          "output_type": "execute_result",
          "data": {
            "text/plain": [
              "(tensor(-9.5367e-09), tensor(1.0000))"
            ]
          },
          "metadata": {},
          "execution_count": 36
        }
      ]
    },
    {
      "cell_type": "code",
      "source": [
        "# French to English translation example:\n",
        "\n",
        "# <--------- ENCODE ------------------><--------------- DECODE ----------------->\n",
        "# les réseaux de neurones sont géniaux! <START> neural networks are awesome!<END>\n",
        "\n"
      ],
      "metadata": {
        "id": "dRJH6wM_XFfU"
      },
      "execution_count": 37,
      "outputs": []
    },
    {
      "cell_type": "markdown",
      "source": [
        "### Full finished code, for reference\n",
        "\n",
        "You may want to refer directly to the git repo instead though."
      ],
      "metadata": {
        "id": "ZcvKeBXoZFOY"
      }
    },
    {
      "cell_type": "code",
      "source": [
        "import torch\n",
        "import torch.nn as nn\n",
        "from torch.nn import functional as F\n",
        "\n",
        "# hyperparameters\n",
        "batch_size = 16 # how many independent sequences will we process in parallel?\n",
        "block_size = 32 # what is the maximum context length for predictions?\n",
        "max_iters = 5000\n",
        "eval_interval = 100\n",
        "learning_rate = 1e-3\n",
        "device = 'cuda' if torch.cuda.is_available() else 'cpu'\n",
        "eval_iters = 200\n",
        "n_embd = 64\n",
        "n_head = 4\n",
        "n_layer = 4\n",
        "dropout = 0.0\n",
        "# ------------\n",
        "\n",
        "torch.manual_seed(1337)\n",
        "\n",
        "# wget https://raw.githubusercontent.com/karpathy/char-rnn/master/data/tinyshakespeare/input.txt\n",
        "with open('hemingwayinput.txt', 'r', encoding='utf-8') as f:\n",
        "    text = f.read()\n",
        "\n",
        "# here are all the unique characters that occur in this text\n",
        "chars = sorted(list(set(text)))\n",
        "vocab_size = len(chars)\n",
        "# create a mapping from characters to integers\n",
        "stoi = { ch:i for i,ch in enumerate(chars) }\n",
        "itos = { i:ch for i,ch in enumerate(chars) }\n",
        "encode = lambda s: [stoi[c] for c in s] # encoder: take a string, output a list of integers\n",
        "decode = lambda l: ''.join([itos[i] for i in l]) # decoder: take a list of integers, output a string\n",
        "\n",
        "# Train and test splits\n",
        "data = torch.tensor(encode(text), dtype=torch.long)\n",
        "n = int(0.9*len(data)) # first 90% will be train, rest val\n",
        "train_data = data[:n]\n",
        "val_data = data[n:]\n",
        "\n",
        "# data loading\n",
        "def get_batch(split):\n",
        "    # generate a small batch of data of inputs x and targets y\n",
        "    data = train_data if split == 'train' else val_data\n",
        "    ix = torch.randint(len(data) - block_size, (batch_size,))\n",
        "    x = torch.stack([data[i:i+block_size] for i in ix])\n",
        "    y = torch.stack([data[i+1:i+block_size+1] for i in ix])\n",
        "    x, y = x.to(device), y.to(device)\n",
        "    return x, y\n",
        "\n",
        "@torch.no_grad()\n",
        "def estimate_loss():\n",
        "    out = {}\n",
        "    model.eval()\n",
        "    for split in ['train', 'val']:\n",
        "        losses = torch.zeros(eval_iters)\n",
        "        for k in range(eval_iters):\n",
        "            X, Y = get_batch(split)\n",
        "            logits, loss = model(X, Y)\n",
        "            losses[k] = loss.item()\n",
        "        out[split] = losses.mean()\n",
        "    model.train()\n",
        "    return out\n",
        "\n",
        "class Head(nn.Module):\n",
        "    \"\"\" one head of self-attention \"\"\"\n",
        "\n",
        "    def __init__(self, head_size):\n",
        "        super().__init__()\n",
        "        self.key = nn.Linear(n_embd, head_size, bias=False)\n",
        "        self.query = nn.Linear(n_embd, head_size, bias=False)\n",
        "        self.value = nn.Linear(n_embd, head_size, bias=False)\n",
        "        self.register_buffer('tril', torch.tril(torch.ones(block_size, block_size)))\n",
        "\n",
        "        self.dropout = nn.Dropout(dropout)\n",
        "\n",
        "    def forward(self, x):\n",
        "        B,T,C = x.shape\n",
        "        k = self.key(x)   # (B,T,C)\n",
        "        q = self.query(x) # (B,T,C)\n",
        "        # compute attention scores (\"affinities\")\n",
        "        wei = q @ k.transpose(-2,-1) * C**-0.5 # (B, T, C) @ (B, C, T) -> (B, T, T)\n",
        "        wei = wei.masked_fill(self.tril[:T, :T] == 0, float('-inf')) # (B, T, T)\n",
        "        wei = F.softmax(wei, dim=-1) # (B, T, T)\n",
        "        wei = self.dropout(wei)\n",
        "        # perform the weighted aggregation of the values\n",
        "        v = self.value(x) # (B,T,C)\n",
        "        out = wei @ v # (B, T, T) @ (B, T, C) -> (B, T, C)\n",
        "        return out\n",
        "\n",
        "class MultiHeadAttention(nn.Module):\n",
        "    \"\"\" multiple heads of self-attention in parallel \"\"\"\n",
        "\n",
        "    def __init__(self, num_heads, head_size):\n",
        "        super().__init__()\n",
        "        self.heads = nn.ModuleList([Head(head_size) for _ in range(num_heads)])\n",
        "        self.proj = nn.Linear(n_embd, n_embd)\n",
        "        self.dropout = nn.Dropout(dropout)\n",
        "\n",
        "    def forward(self, x):\n",
        "        out = torch.cat([h(x) for h in self.heads], dim=-1)\n",
        "        out = self.dropout(self.proj(out))\n",
        "        return out\n",
        "\n",
        "class FeedFoward(nn.Module):\n",
        "    \"\"\" a simple linear layer followed by a non-linearity \"\"\"\n",
        "\n",
        "    def __init__(self, n_embd):\n",
        "        super().__init__()\n",
        "        self.net = nn.Sequential(\n",
        "            nn.Linear(n_embd, 4 * n_embd),\n",
        "            nn.ReLU(),\n",
        "            nn.Linear(4 * n_embd, n_embd),\n",
        "            nn.Dropout(dropout),\n",
        "        )\n",
        "\n",
        "    def forward(self, x):\n",
        "        return self.net(x)\n",
        "\n",
        "class Block(nn.Module):\n",
        "    \"\"\" Transformer block: communication followed by computation \"\"\"\n",
        "\n",
        "    def __init__(self, n_embd, n_head):\n",
        "        # n_embd: embedding dimension, n_head: the number of heads we'd like\n",
        "        super().__init__()\n",
        "        head_size = n_embd // n_head\n",
        "        self.sa = MultiHeadAttention(n_head, head_size)\n",
        "        self.ffwd = FeedFoward(n_embd)\n",
        "        self.ln1 = nn.LayerNorm(n_embd)\n",
        "        self.ln2 = nn.LayerNorm(n_embd)\n",
        "\n",
        "    def forward(self, x):\n",
        "        x = x + self.sa(self.ln1(x))\n",
        "        x = x + self.ffwd(self.ln2(x))\n",
        "        return x\n",
        "\n",
        "# super simple bigram model\n",
        "class BigramLanguageModel(nn.Module):\n",
        "\n",
        "    def __init__(self):\n",
        "        super().__init__()\n",
        "        # each token directly reads off the logits for the next token from a lookup table\n",
        "        self.token_embedding_table = nn.Embedding(vocab_size, n_embd)\n",
        "        self.position_embedding_table = nn.Embedding(block_size, n_embd)\n",
        "        self.blocks = nn.Sequential(*[Block(n_embd, n_head=n_head) for _ in range(n_layer)])\n",
        "        self.ln_f = nn.LayerNorm(n_embd) # final layer norm\n",
        "        self.lm_head = nn.Linear(n_embd, vocab_size)\n",
        "\n",
        "    def forward(self, idx, targets=None):\n",
        "        B, T = idx.shape\n",
        "\n",
        "        # idx and targets are both (B,T) tensor of integers\n",
        "        tok_emb = self.token_embedding_table(idx) # (B,T,C)\n",
        "        pos_emb = self.position_embedding_table(torch.arange(T, device=device)) # (T,C)\n",
        "        x = tok_emb + pos_emb # (B,T,C)\n",
        "        x = self.blocks(x) # (B,T,C)\n",
        "        x = self.ln_f(x) # (B,T,C)\n",
        "        logits = self.lm_head(x) # (B,T,vocab_size)\n",
        "\n",
        "        if targets is None:\n",
        "            loss = None\n",
        "        else:\n",
        "            B, T, C = logits.shape\n",
        "            logits = logits.view(B*T, C)\n",
        "            targets = targets.view(B*T)\n",
        "            loss = F.cross_entropy(logits, targets)\n",
        "\n",
        "        return logits, loss\n",
        "\n",
        "    def generate(self, idx, max_new_tokens):\n",
        "        # idx is (B, T) array of indices in the current context\n",
        "        for _ in range(max_new_tokens):\n",
        "            # crop idx to the last block_size tokens\n",
        "            idx_cond = idx[:, -block_size:]\n",
        "            # get the predictions\n",
        "            logits, loss = self(idx_cond)\n",
        "            # focus only on the last time step\n",
        "            logits = logits[:, -1, :] # becomes (B, C)\n",
        "            # apply softmax to get probabilities\n",
        "            probs = F.softmax(logits, dim=-1) # (B, C)\n",
        "            # sample from the distribution\n",
        "            idx_next = torch.multinomial(probs, num_samples=1) # (B, 1)\n",
        "            # append sampled index to the running sequence\n",
        "            idx = torch.cat((idx, idx_next), dim=1) # (B, T+1)\n",
        "        return idx\n",
        "\n",
        "model = BigramLanguageModel()\n",
        "m = model.to(device)\n",
        "# print the number of parameters in the model\n",
        "print(sum(p.numel() for p in m.parameters())/1e6, 'M parameters')\n",
        "\n",
        "# create a PyTorch optimizer\n",
        "optimizer = torch.optim.AdamW(model.parameters(), lr=learning_rate)\n",
        "\n",
        "for iter in range(max_iters):\n",
        "\n",
        "    # every once in a while evaluate the loss on train and val sets\n",
        "    if iter % eval_interval == 0 or iter == max_iters - 1:\n",
        "        losses = estimate_loss()\n",
        "        print(f\"step {iter}: train loss {losses['train']:.4f}, val loss {losses['val']:.4f}\")\n",
        "\n",
        "    # sample a batch of data\n",
        "    xb, yb = get_batch('train')\n",
        "\n",
        "    # evaluate the loss\n",
        "    logits, loss = model(xb, yb)\n",
        "    optimizer.zero_grad(set_to_none=True)\n",
        "    loss.backward()\n",
        "    optimizer.step()\n",
        "\n",
        "# generate from the model\n",
        "context = torch.zeros((1, 1), dtype=torch.long, device=device)\n",
        "print(decode(m.generate(context, max_new_tokens=2000)[0].tolist()))\n"
      ],
      "metadata": {
        "colab": {
          "base_uri": "https://localhost:8080/"
        },
        "id": "hoelkOrFY8bN",
        "outputId": "b0a47e15-f153-422d-a57b-45fe66f91d87"
      },
      "execution_count": 39,
      "outputs": [
        {
          "output_type": "stream",
          "name": "stdout",
          "text": [
            "0.212954 M parameters\n",
            "step 0: train loss 4.6428, val loss 4.6573\n",
            "step 100: train loss 2.6605, val loss 3.1407\n",
            "step 200: train loss 2.5298, val loss 2.9686\n",
            "step 300: train loss 2.4317, val loss 2.7885\n",
            "step 400: train loss 2.3421, val loss 2.7229\n",
            "step 500: train loss 2.2627, val loss 2.6371\n",
            "step 600: train loss 2.1855, val loss 2.5444\n",
            "step 700: train loss 2.1252, val loss 2.5115\n",
            "step 800: train loss 2.0346, val loss 2.4526\n",
            "step 900: train loss 1.9848, val loss 2.4082\n",
            "step 1000: train loss 1.9361, val loss 2.3757\n",
            "step 1100: train loss 1.9081, val loss 2.3076\n",
            "step 1200: train loss 1.8686, val loss 2.2439\n",
            "step 1300: train loss 1.8216, val loss 2.2563\n",
            "step 1400: train loss 1.7939, val loss 2.2365\n",
            "step 1500: train loss 1.7385, val loss 2.1944\n",
            "step 1600: train loss 1.7250, val loss 2.2324\n",
            "step 1700: train loss 1.7115, val loss 2.1883\n",
            "step 1800: train loss 1.6660, val loss 2.1660\n",
            "step 1900: train loss 1.6588, val loss 2.1593\n",
            "step 2000: train loss 1.6311, val loss 2.1429\n",
            "step 2100: train loss 1.6026, val loss 2.1136\n",
            "step 2200: train loss 1.5910, val loss 2.1179\n",
            "step 2300: train loss 1.5560, val loss 2.1304\n",
            "step 2400: train loss 1.5438, val loss 2.1157\n",
            "step 2500: train loss 1.5216, val loss 2.0982\n",
            "step 2600: train loss 1.5106, val loss 2.1195\n",
            "step 2700: train loss 1.4928, val loss 2.1220\n",
            "step 2800: train loss 1.4886, val loss 2.1007\n",
            "step 2900: train loss 1.4652, val loss 2.0951\n",
            "step 3000: train loss 1.4674, val loss 2.1031\n",
            "step 3100: train loss 1.4396, val loss 2.0661\n",
            "step 3200: train loss 1.4135, val loss 2.0884\n",
            "step 3300: train loss 1.4072, val loss 2.0682\n",
            "step 3400: train loss 1.4008, val loss 2.0601\n",
            "step 3500: train loss 1.3955, val loss 2.1332\n",
            "step 3600: train loss 1.3713, val loss 2.0965\n",
            "step 3700: train loss 1.3561, val loss 2.1108\n",
            "step 3800: train loss 1.3542, val loss 2.1293\n",
            "step 3900: train loss 1.3334, val loss 2.1261\n",
            "step 4000: train loss 1.3295, val loss 2.1129\n",
            "step 4100: train loss 1.3076, val loss 2.1294\n",
            "step 4200: train loss 1.3123, val loss 2.1290\n",
            "step 4300: train loss 1.3007, val loss 2.1214\n",
            "step 4400: train loss 1.2833, val loss 2.1542\n",
            "step 4500: train loss 1.2779, val loss 2.1753\n",
            "step 4600: train loss 1.2619, val loss 2.1545\n",
            "step 4700: train loss 1.2556, val loss 2.1344\n",
            "step 4800: train loss 1.2594, val loss 2.1555\n",
            "step 4900: train loss 1.2394, val loss 2.1457\n",
            "step 4999: train loss 1.2300, val loss 2.1731\n",
            "\n",
            "nothead look with a mvery peekelishers birrougs and beft all ovess and whe always eatenconic domals\n",
            "and going come in to 1. Want payed she won clopy weeld be speciaes with them.\n",
            "  There track and from\n",
            "the road,\n",
            "buttled to can setureate was worries. It’s leans paying ut\n",
            "of thinking notheer over are world by smiled it maybe Vant In I never got domage ity—you see and I could white the aint guys first to cold, stack of dor some out of act\n",
            "and the young gentleman weith\n",
            "Gee German back to signtas some up in a race and it sunco back to the Cafe suills\n",
            "fickets of the that they hogard to Oht 1. Joe?” He liked Jim. That doth it was pured byill it main give y. Geore\n",
            "\n",
            "\n",
            "RINYT with He dreaseaver with pleg lione and pairaid up and we would feel horse him wouldn’t have me but I durlear\n",
            "furty around to place that went into\n",
            "with Projectais United States The town paid fut in the\n",
            "front back laws I nard’s course alwaysweat for 10. We If going for a the Maisons an he didn’t little him or\n",
            "the I’d get of some.\n",
            "  At not fish\n",
            "tommsare porrope out with after day“)hat Jim to head you don’t main was shobpe off.\n",
            "\n",
            "I days use was so byworlds come and we golled shere looked bes fishing,\n",
            "you mays some of thing of with permiss posted.\n",
            "  Thick iganse and of thing\n",
            "out on the blacks cange white\n",
            "Holdoat as on the use, but thare thing just like XHeap I’d don’t Liz sure we in the aucs sort of the buttled where’s his down copyright law in creast to help with and they could see the wagon hould Cafe we werent up on her ain magaze horse put hoping along futh\n",
            "  Project Gutenberg’s looking\n",
            "  Alone of Milan no\n",
            "and riding there disperiode\n",
            "  Jimberchare and they bunch off the finally woil because the widone acce\n",
            "forth of the lake seemiof there whollo eith a reces prepast\n",
            "and the Mont, finally.\n",
            "\n",
            "\n",
            "\n",
            "\n",
            "\n",
            "Leant I look thought storeeps of jock-eggitherence Gardner down the bought him. My is going into weake the at well got the started hilarde maybe wink the smiled hell her\n",
            "of the piles gone, oad out with big back and he di\n"
          ]
        }
      ]
    },
    {
      "cell_type": "code",
      "source": [],
      "metadata": {
        "id": "fjjvMifYZf7x"
      },
      "execution_count": null,
      "outputs": []
    }
  ]
}